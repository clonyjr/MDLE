{
 "cells": [
  {
   "cell_type": "markdown",
   "metadata": {},
   "source": [
    "# Imports"
   ]
  },
  {
   "cell_type": "code",
   "execution_count": 1,
   "metadata": {},
   "outputs": [],
   "source": [
    "from pyspark import SparkContext as sparkc\n",
    "from pyspark.sql.types import StructType, StructField, IntegerType, StringType\n",
    "from pyspark.sql import DataFrameReader"
   ]
  },
  {
   "cell_type": "markdown",
   "metadata": {},
   "source": [
    "# Code"
   ]
  },
  {
   "cell_type": "code",
   "execution_count": 2,
   "metadata": {},
   "outputs": [],
   "source": [
    "from pyspark.sql import SparkSession\n",
    "spark = SparkSession.builder.master(\"local[*]\").getOrCreate()"
   ]
  },
  {
   "cell_type": "code",
   "execution_count": 3,
   "metadata": {
    "scrolled": true
   },
   "outputs": [
    {
     "name": "stdout",
     "output_type": "stream",
     "text": [
      "root\n",
      " |-- START: string (nullable = true)\n",
      " |-- STOP: string (nullable = true)\n",
      " |-- PATIENT: string (nullable = true)\n",
      " |-- ENCOUNTER: string (nullable = true)\n",
      " |-- CODE: integer (nullable = true)\n",
      " |-- DESCRIPTION: string (nullable = true)\n",
      "\n",
      "+----------+----------+--------------------+--------------------+---------+--------------------+\n",
      "|     START|      STOP|             PATIENT|           ENCOUNTER|     CODE|         DESCRIPTION|\n",
      "+----------+----------+--------------------+--------------------+---------+--------------------+\n",
      "|2017-01-14|2017-03-30|09e4e8cb-29c2-4ef...|88e540ab-a7d7-47d...| 65363002|        Otitis media|\n",
      "|2012-09-15|2012-09-16|b0a03e8c-8d0f-424...|e89414dc-d0c6-478...|241929008|Acute allergic re...|\n",
      "|2018-06-17|2018-06-24|09e4e8cb-29c2-4ef...|c14325b0-f7ec-431...|444814009|Viral sinusitis (...|\n",
      "|2019-04-19|2019-09-26|09e4e8cb-29c2-4ef...|71af18ee-3157-408...| 65363002|        Otitis media|\n",
      "|2019-04-27|2019-05-18|09e4e8cb-29c2-4ef...|411d4eae-72d1-478...|444814009|Viral sinusitis (...|\n",
      "|2019-06-03|2019-08-02|09e4e8cb-29c2-4ef...|667a94d9-6aa1-4b6...| 33737001|     Fracture of rib|\n",
      "|2014-11-09|2014-11-30|b0a03e8c-8d0f-424...|53431016-43c6-46b...|444814009|Viral sinusitis (...|\n",
      "|2015-01-04|2015-01-18|b0a03e8c-8d0f-424...|fb838ab5-2805-41c...| 10509002|Acute bronchitis ...|\n",
      "|2015-03-26|      null|b0a03e8c-8d0f-424...|fbc7efee-c52c-4d4...|233678006|    Childhood asthma|\n",
      "|2015-08-04|2015-08-14|b0a03e8c-8d0f-424...|2c912168-e7c9-403...|195662009|Acute viral phary...|\n",
      "|2017-03-25|      null|b0a03e8c-8d0f-424...|c7b8d2e7-7503-420...|232353008|Perennial allergi...|\n",
      "|2017-07-06|2017-07-19|b0a03e8c-8d0f-424...|d80ec843-b8a0-4a6...|195662009|Acute viral phary...|\n",
      "|1997-07-15|2013-07-13|5420ae87-24c8-4ed...|48cf8d6c-42fd-4a0...|446096008|Perennial allergi...|\n",
      "|2011-12-07|2011-12-21|5420ae87-24c8-4ed...|e3339c56-7735-4cf...|284551006|  Laceration of foot|\n",
      "|2013-11-10|2013-11-24|5420ae87-24c8-4ed...|f6161868-7e9b-471...|283371005|Laceration of for...|\n",
      "|2016-09-24|2017-04-29|5420ae87-24c8-4ed...|0f531593-2c53-461...| 72892002|    Normal pregnancy|\n",
      "|2017-10-15|2017-10-22|5420ae87-24c8-4ed...|52d0d19a-7930-4b5...|444814009|Viral sinusitis (...|\n",
      "|2018-07-20|2018-07-29|5420ae87-24c8-4ed...|aefa8d2e-815f-43d...|195662009|Acute viral phary...|\n",
      "|2014-04-27|      null|bf1f30f2-27de-4b5...|14595c35-2966-465...|162864005|Body mass index 3...|\n",
      "|2015-01-09|2015-01-23|bf1f30f2-27de-4b5...|0f0455a5-829c-431...|283385000| Laceration of thigh|\n",
      "+----------+----------+--------------------+--------------------+---------+--------------------+\n",
      "only showing top 20 rows\n",
      "\n"
     ]
    }
   ],
   "source": [
    "schema = StructType([\n",
    "    StructField(\"START\", StringType(), True),\n",
    "    StructField(\"STOP\", StringType(), True),\n",
    "    StructField(\"PATIENT\", StringType(), True),\n",
    "    StructField(\"ENCOUNTER\", StringType(), True),\n",
    "    StructField(\"CODE\", IntegerType(), True),\n",
    "    StructField(\"DESCRIPTION\", StringType(), True)])\n",
    "\n",
    "df = spark.read.csv(\"./Assignment1/conditions.csv\",header=True,schema=schema)\n",
    "# df = spark.read.csv(\"Assignment1/conditionsample.csv\",header=True,schema=schema).select('PATIENT','CODE')\n",
    "\n",
    "df.printSchema()\n",
    "df.show()"
   ]
  },
  {
   "cell_type": "markdown",
   "metadata": {},
   "source": [
    "## PATIENT - CODE"
   ]
  },
  {
   "cell_type": "code",
   "execution_count": 4,
   "metadata": {},
   "outputs": [
    {
     "name": "stdout",
     "output_type": "stream",
     "text": [
      "+--------------------+---------+\n",
      "|             PATIENT|     CODE|\n",
      "+--------------------+---------+\n",
      "|09e4e8cb-29c2-4ef...| 65363002|\n",
      "|b0a03e8c-8d0f-424...|241929008|\n",
      "|09e4e8cb-29c2-4ef...|444814009|\n",
      "|09e4e8cb-29c2-4ef...| 65363002|\n",
      "|09e4e8cb-29c2-4ef...|444814009|\n",
      "|09e4e8cb-29c2-4ef...| 33737001|\n",
      "|b0a03e8c-8d0f-424...|444814009|\n",
      "|b0a03e8c-8d0f-424...| 10509002|\n",
      "|b0a03e8c-8d0f-424...|233678006|\n",
      "|b0a03e8c-8d0f-424...|195662009|\n",
      "|b0a03e8c-8d0f-424...|232353008|\n",
      "|b0a03e8c-8d0f-424...|195662009|\n",
      "|5420ae87-24c8-4ed...|446096008|\n",
      "|5420ae87-24c8-4ed...|284551006|\n",
      "|5420ae87-24c8-4ed...|283371005|\n",
      "|5420ae87-24c8-4ed...| 72892002|\n",
      "|5420ae87-24c8-4ed...|444814009|\n",
      "|5420ae87-24c8-4ed...|195662009|\n",
      "|bf1f30f2-27de-4b5...|162864005|\n",
      "|bf1f30f2-27de-4b5...|283385000|\n",
      "+--------------------+---------+\n",
      "only showing top 20 rows\n",
      "\n"
     ]
    }
   ],
   "source": [
    "patients = df.select('PATIENT', 'CODE')\n",
    "patients.show()"
   ]
  },
  {
   "cell_type": "markdown",
   "metadata": {},
   "source": [
    "## CODE - DESCRIPTION (DISTINCT)"
   ]
  },
  {
   "cell_type": "code",
   "execution_count": 5,
   "metadata": {},
   "outputs": [
    {
     "name": "stdout",
     "output_type": "stream",
     "text": [
      "+---------+--------------------+\n",
      "|     CODE|         DESCRIPTION|\n",
      "+---------+--------------------+\n",
      "|446096008|Perennial allergi...|\n",
      "| 88805009|Chronic congestiv...|\n",
      "| 65363002|        Otitis media|\n",
      "| 79586000|     Tubal pregnancy|\n",
      "| 95417003|Primary fibromyal...|\n",
      "| 74400008|        Appendicitis|\n",
      "|262574004|        Bullet wound|\n",
      "|236077008| Protracted diarrhea|\n",
      "| 44054006|            Diabetes|\n",
      "|443165006|Pathological frac...|\n",
      "|444814009|Viral sinusitis (...|\n",
      "|399211009|History of myocar...|\n",
      "|241929008|Acute allergic re...|\n",
      "|110030002|Concussion injury...|\n",
      "|200936003| Lupus erythematosus|\n",
      "|444470001|Injury of anterio...|\n",
      "|307731004|Injury of tendon ...|\n",
      "|196416002|     Impacted molars|\n",
      "| 43878008|Streptococcal sor...|\n",
      "|424132000|Non-small cell ca...|\n",
      "+---------+--------------------+\n",
      "only showing top 20 rows\n",
      "\n"
     ]
    }
   ],
   "source": [
    "diagnosis = df.select('CODE', 'DESCRIPTION').distinct()\n",
    "diagnosis.show()"
   ]
  },
  {
   "cell_type": "markdown",
   "metadata": {},
   "source": [
    "## Functions"
   ]
  },
  {
   "cell_type": "code",
   "execution_count": 144,
   "metadata": {},
   "outputs": [],
   "source": [
    "def tuples(x):\n",
    "    return set(x)"
   ]
  },
  {
   "cell_type": "markdown",
   "metadata": {},
   "source": [
    "### Spark Functions"
   ]
  },
  {
   "cell_type": "code",
   "execution_count": 6,
   "metadata": {},
   "outputs": [
    {
     "data": {
      "text/plain": [
       "[('28a3cdb7-1db1-4148-8280-8a4e5b4f99e0',\n",
       "  {19169002, 72892002, 156073000, 284551006}),\n",
       " ('3826037f-19e0-4c7b-98e5-4e9578472f67',\n",
       "  {24079001, 55822004, 65966004, 162864005}),\n",
       " ('e32e0069-2d3f-4b7b-b420-3269c94723ad', {16114001, 162864005, 195662009}),\n",
       " (None, {None}),\n",
       " ('887ad9bb-bd72-44cf-8e5e-8aff7fbdeed4',\n",
       "  {40275004, 44465007, 72892002, 195662009, 444814009}),\n",
       " ('8e763f75-614b-4ef7-aa86-ce459dd3142e',\n",
       "  {10509002, 70704007, 128613002, 195662009, 703151001}),\n",
       " ('8b0755cd-54d4-48e2-a163-4bf04e47f2f2',\n",
       "  {15777000,\n",
       "   36971009,\n",
       "   38822007,\n",
       "   40055000,\n",
       "   59621000,\n",
       "   195662009,\n",
       "   271737000,\n",
       "   444814009,\n",
       "   446096008}),\n",
       " ('2593819d-f0ff-470b-95da-656e8340255c',\n",
       "  {10509002,\n",
       "   19169002,\n",
       "   35999006,\n",
       "   72892002,\n",
       "   195662009,\n",
       "   198992004,\n",
       "   232353008,\n",
       "   398254007,\n",
       "   444814009}),\n",
       " ('de087296-4f63-40b4-94f0-fc0dd91df200',\n",
       "  {10509002, 162864005, 195662009, 408512008, 444814009}),\n",
       " ('4a181f3d-0937-466a-a503-d449aea0dbfa', {70704007, 75498004})]"
      ]
     },
     "execution_count": 6,
     "metadata": {},
     "output_type": "execute_result"
    }
   ],
   "source": [
    "codeGroupedByPatients = df.rdd.map(lambda x: (x.PATIENT, x.CODE)).groupByKey().mapValues(set)\n",
    "codeGroupedByPatients.take(10)\n",
    "# codeGroupedByPatients.collect()"
   ]
  },
  {
   "cell_type": "markdown",
   "metadata": {},
   "source": [
    "# Frequent Items Table"
   ]
  },
  {
   "cell_type": "code",
   "execution_count": 15,
   "metadata": {},
   "outputs": [],
   "source": [
    "def frequent_items_table(itemCounts):\n",
    "#     for item in itemCounts:\n",
    "#     itemCounts.sortBy(values);\n",
    "#     sortedItemCounts = sorted(itemCounts.items(), key=lambda kv: kv[1], reverse=True)\n",
    "#     print(sortedItemCounts)\n",
    "#     return sortedItemCounts\n",
    "#     print(sorted(itemCounts.items(), reverse=True))\n",
    "    \n",
    "    print(itemCounts.items())\n",
    "    frequentItems = list()\n",
    "    supportThreshold = 1000\n",
    "#     for item in itemCounts:\n",
    "    for key, value in itemCounts.items():\n",
    "#         print(\"%d - %d\" % (key, value))\n",
    "#         break\n",
    "#         if value >= supportThreshold and key is not \"None\":\n",
    "        if key is None:\n",
    "#         if item is None:\n",
    "            continue\n",
    "        if value >= supportThreshold:\n",
    "            frequentItems.append(key)\n",
    "#             frequentItems.add(item)\n",
    "    return frequentItems\n",
    "\n",
    "#     supportThreshold = 1000\n",
    "#     return list(map(lambda i: i > supportThreshold, itemCounts))"
   ]
  },
  {
   "cell_type": "markdown",
   "metadata": {},
   "source": [
    "# A-Priori"
   ]
  },
  {
   "cell_type": "code",
   "execution_count": 8,
   "metadata": {},
   "outputs": [],
   "source": [
    "from collections import defaultdict\n",
    "\n",
    "def apriori(codePatients):\n",
    "    item_counts, pair_counts = defaultdict(int),  defaultdict(int)\n",
    "#     item_counts, pair_counts = {}, {}\n",
    "    for basket in codePatients.collect():\n",
    "#         print(basket)\n",
    "        for item in basket[1]:\n",
    "#             print(item)\n",
    "#             if item not in item_counts:\n",
    "#                 item_counts[item] = 1\n",
    "#             else:\n",
    "                item_counts[item] += 1\n",
    "\n",
    "#     print(item_counts)\n",
    "    frequent_items = frequent_items_table(item_counts)\n",
    "\n",
    "    # for (item in basket):\n",
    "    for i in codePatients.collect():\n",
    "        if i not in frequent_items:\n",
    "            continue\n",
    "        for j in codePatients.collect():\n",
    "            if j in frequent_items:\n",
    "                pair_counts[i, j] += 1\n",
    "#     return pair_counts\n",
    "#     print(pair_counts)"
   ]
  },
  {
   "cell_type": "code",
   "execution_count": 18,
   "metadata": {
    "scrolled": true
   },
   "outputs": [
    {
     "name": "stderr",
     "output_type": "stream",
     "text": [
      "ERROR:py4j.java_gateway:An error occurred while trying to connect to the Java server (127.0.0.1:44313)\n",
      "Traceback (most recent call last):\n",
      "  File \"/usr/local/spark/python/lib/py4j-0.10.7-src.zip/py4j/java_gateway.py\", line 929, in _get_connection\n",
      "    connection = self.deque.pop()\n",
      "IndexError: pop from an empty deque\n",
      "\n",
      "During handling of the above exception, another exception occurred:\n",
      "\n",
      "Traceback (most recent call last):\n",
      "  File \"/usr/local/spark/python/lib/py4j-0.10.7-src.zip/py4j/java_gateway.py\", line 1067, in start\n",
      "    self.socket.connect((self.address, self.port))\n",
      "ConnectionRefusedError: [Errno 111] Connection refused\n"
     ]
    },
    {
     "ename": "Py4JNetworkError",
     "evalue": "An error occurred while trying to connect to the Java server (127.0.0.1:44313)",
     "output_type": "error",
     "traceback": [
      "\u001b[0;31m---------------------------------------------------------------------------\u001b[0m",
      "\u001b[0;31mIndexError\u001b[0m                                Traceback (most recent call last)",
      "\u001b[0;32m/usr/local/spark/python/lib/py4j-0.10.7-src.zip/py4j/java_gateway.py\u001b[0m in \u001b[0;36m_get_connection\u001b[0;34m(self)\u001b[0m\n\u001b[1;32m    928\u001b[0m         \u001b[0;32mtry\u001b[0m\u001b[0;34m:\u001b[0m\u001b[0;34m\u001b[0m\u001b[0;34m\u001b[0m\u001b[0m\n\u001b[0;32m--> 929\u001b[0;31m             \u001b[0mconnection\u001b[0m \u001b[0;34m=\u001b[0m \u001b[0mself\u001b[0m\u001b[0;34m.\u001b[0m\u001b[0mdeque\u001b[0m\u001b[0;34m.\u001b[0m\u001b[0mpop\u001b[0m\u001b[0;34m(\u001b[0m\u001b[0;34m)\u001b[0m\u001b[0;34m\u001b[0m\u001b[0;34m\u001b[0m\u001b[0m\n\u001b[0m\u001b[1;32m    930\u001b[0m         \u001b[0;32mexcept\u001b[0m \u001b[0mIndexError\u001b[0m\u001b[0;34m:\u001b[0m\u001b[0;34m\u001b[0m\u001b[0;34m\u001b[0m\u001b[0m\n",
      "\u001b[0;31mIndexError\u001b[0m: pop from an empty deque",
      "\nDuring handling of the above exception, another exception occurred:\n",
      "\u001b[0;31mConnectionRefusedError\u001b[0m                    Traceback (most recent call last)",
      "\u001b[0;32m/usr/local/spark/python/lib/py4j-0.10.7-src.zip/py4j/java_gateway.py\u001b[0m in \u001b[0;36mstart\u001b[0;34m(self)\u001b[0m\n\u001b[1;32m   1066\u001b[0m         \u001b[0;32mtry\u001b[0m\u001b[0;34m:\u001b[0m\u001b[0;34m\u001b[0m\u001b[0;34m\u001b[0m\u001b[0m\n\u001b[0;32m-> 1067\u001b[0;31m             \u001b[0mself\u001b[0m\u001b[0;34m.\u001b[0m\u001b[0msocket\u001b[0m\u001b[0;34m.\u001b[0m\u001b[0mconnect\u001b[0m\u001b[0;34m(\u001b[0m\u001b[0;34m(\u001b[0m\u001b[0mself\u001b[0m\u001b[0;34m.\u001b[0m\u001b[0maddress\u001b[0m\u001b[0;34m,\u001b[0m \u001b[0mself\u001b[0m\u001b[0;34m.\u001b[0m\u001b[0mport\u001b[0m\u001b[0;34m)\u001b[0m\u001b[0;34m)\u001b[0m\u001b[0;34m\u001b[0m\u001b[0;34m\u001b[0m\u001b[0m\n\u001b[0m\u001b[1;32m   1068\u001b[0m             \u001b[0mself\u001b[0m\u001b[0;34m.\u001b[0m\u001b[0mstream\u001b[0m \u001b[0;34m=\u001b[0m \u001b[0mself\u001b[0m\u001b[0;34m.\u001b[0m\u001b[0msocket\u001b[0m\u001b[0;34m.\u001b[0m\u001b[0mmakefile\u001b[0m\u001b[0;34m(\u001b[0m\u001b[0;34m\"rb\"\u001b[0m\u001b[0;34m)\u001b[0m\u001b[0;34m\u001b[0m\u001b[0;34m\u001b[0m\u001b[0m\n",
      "\u001b[0;31mConnectionRefusedError\u001b[0m: [Errno 111] Connection refused",
      "\nDuring handling of the above exception, another exception occurred:\n",
      "\u001b[0;31mPy4JNetworkError\u001b[0m                          Traceback (most recent call last)",
      "\u001b[0;32m<ipython-input-18-2a074a1fad92>\u001b[0m in \u001b[0;36m<module>\u001b[0;34m\u001b[0m\n\u001b[0;32m----> 1\u001b[0;31m \u001b[0mresult\u001b[0m \u001b[0;34m=\u001b[0m \u001b[0mapriori\u001b[0m\u001b[0;34m(\u001b[0m\u001b[0mcodeGroupedByPatients\u001b[0m\u001b[0;34m)\u001b[0m\u001b[0;34m\u001b[0m\u001b[0;34m\u001b[0m\u001b[0m\n\u001b[0m\u001b[1;32m      2\u001b[0m \u001b[0;31m# print(result)\u001b[0m\u001b[0;34m\u001b[0m\u001b[0;34m\u001b[0m\u001b[0;34m\u001b[0m\u001b[0m\n",
      "\u001b[0;32m<ipython-input-8-b2f4daa50d6f>\u001b[0m in \u001b[0;36mapriori\u001b[0;34m(codePatients)\u001b[0m\n\u001b[1;32m      4\u001b[0m     \u001b[0mitem_counts\u001b[0m\u001b[0;34m,\u001b[0m \u001b[0mpair_counts\u001b[0m \u001b[0;34m=\u001b[0m \u001b[0mdefaultdict\u001b[0m\u001b[0;34m(\u001b[0m\u001b[0mint\u001b[0m\u001b[0;34m)\u001b[0m\u001b[0;34m,\u001b[0m  \u001b[0mdefaultdict\u001b[0m\u001b[0;34m(\u001b[0m\u001b[0mint\u001b[0m\u001b[0;34m)\u001b[0m\u001b[0;34m\u001b[0m\u001b[0;34m\u001b[0m\u001b[0m\n\u001b[1;32m      5\u001b[0m \u001b[0;31m#     item_counts, pair_counts = {}, {}\u001b[0m\u001b[0;34m\u001b[0m\u001b[0;34m\u001b[0m\u001b[0;34m\u001b[0m\u001b[0m\n\u001b[0;32m----> 6\u001b[0;31m     \u001b[0;32mfor\u001b[0m \u001b[0mbasket\u001b[0m \u001b[0;32min\u001b[0m \u001b[0mcodePatients\u001b[0m\u001b[0;34m.\u001b[0m\u001b[0mcollect\u001b[0m\u001b[0;34m(\u001b[0m\u001b[0;34m)\u001b[0m\u001b[0;34m:\u001b[0m\u001b[0;34m\u001b[0m\u001b[0;34m\u001b[0m\u001b[0m\n\u001b[0m\u001b[1;32m      7\u001b[0m \u001b[0;31m#         print(basket)\u001b[0m\u001b[0;34m\u001b[0m\u001b[0;34m\u001b[0m\u001b[0;34m\u001b[0m\u001b[0m\n\u001b[1;32m      8\u001b[0m         \u001b[0;32mfor\u001b[0m \u001b[0mitem\u001b[0m \u001b[0;32min\u001b[0m \u001b[0mbasket\u001b[0m\u001b[0;34m[\u001b[0m\u001b[0;36m1\u001b[0m\u001b[0;34m]\u001b[0m\u001b[0;34m:\u001b[0m\u001b[0;34m\u001b[0m\u001b[0;34m\u001b[0m\u001b[0m\n",
      "\u001b[0;32m/usr/local/spark/python/pyspark/rdd.py\u001b[0m in \u001b[0;36mcollect\u001b[0;34m(self)\u001b[0m\n\u001b[1;32m    813\u001b[0m             \u001b[0mto\u001b[0m \u001b[0mbe\u001b[0m \u001b[0msmall\u001b[0m\u001b[0;34m,\u001b[0m \u001b[0;32mas\u001b[0m \u001b[0mall\u001b[0m \u001b[0mthe\u001b[0m \u001b[0mdata\u001b[0m \u001b[0;32mis\u001b[0m \u001b[0mloaded\u001b[0m \u001b[0minto\u001b[0m \u001b[0mthe\u001b[0m \u001b[0mdriver\u001b[0m\u001b[0;31m'\u001b[0m\u001b[0ms\u001b[0m \u001b[0mmemory\u001b[0m\u001b[0;34m.\u001b[0m\u001b[0;34m\u001b[0m\u001b[0;34m\u001b[0m\u001b[0m\n\u001b[1;32m    814\u001b[0m         \"\"\"\n\u001b[0;32m--> 815\u001b[0;31m         \u001b[0;32mwith\u001b[0m \u001b[0mSCCallSiteSync\u001b[0m\u001b[0;34m(\u001b[0m\u001b[0mself\u001b[0m\u001b[0;34m.\u001b[0m\u001b[0mcontext\u001b[0m\u001b[0;34m)\u001b[0m \u001b[0;32mas\u001b[0m \u001b[0mcss\u001b[0m\u001b[0;34m:\u001b[0m\u001b[0;34m\u001b[0m\u001b[0;34m\u001b[0m\u001b[0m\n\u001b[0m\u001b[1;32m    816\u001b[0m             \u001b[0msock_info\u001b[0m \u001b[0;34m=\u001b[0m \u001b[0mself\u001b[0m\u001b[0;34m.\u001b[0m\u001b[0mctx\u001b[0m\u001b[0;34m.\u001b[0m\u001b[0m_jvm\u001b[0m\u001b[0;34m.\u001b[0m\u001b[0mPythonRDD\u001b[0m\u001b[0;34m.\u001b[0m\u001b[0mcollectAndServe\u001b[0m\u001b[0;34m(\u001b[0m\u001b[0mself\u001b[0m\u001b[0;34m.\u001b[0m\u001b[0m_jrdd\u001b[0m\u001b[0;34m.\u001b[0m\u001b[0mrdd\u001b[0m\u001b[0;34m(\u001b[0m\u001b[0;34m)\u001b[0m\u001b[0;34m)\u001b[0m\u001b[0;34m\u001b[0m\u001b[0;34m\u001b[0m\u001b[0m\n\u001b[1;32m    817\u001b[0m         \u001b[0;32mreturn\u001b[0m \u001b[0mlist\u001b[0m\u001b[0;34m(\u001b[0m\u001b[0m_load_from_socket\u001b[0m\u001b[0;34m(\u001b[0m\u001b[0msock_info\u001b[0m\u001b[0;34m,\u001b[0m \u001b[0mself\u001b[0m\u001b[0;34m.\u001b[0m\u001b[0m_jrdd_deserializer\u001b[0m\u001b[0;34m)\u001b[0m\u001b[0;34m)\u001b[0m\u001b[0;34m\u001b[0m\u001b[0;34m\u001b[0m\u001b[0m\n",
      "\u001b[0;32m/usr/local/spark/python/pyspark/traceback_utils.py\u001b[0m in \u001b[0;36m__enter__\u001b[0;34m(self)\u001b[0m\n\u001b[1;32m     70\u001b[0m     \u001b[0;32mdef\u001b[0m \u001b[0m__enter__\u001b[0m\u001b[0;34m(\u001b[0m\u001b[0mself\u001b[0m\u001b[0;34m)\u001b[0m\u001b[0;34m:\u001b[0m\u001b[0;34m\u001b[0m\u001b[0;34m\u001b[0m\u001b[0m\n\u001b[1;32m     71\u001b[0m         \u001b[0;32mif\u001b[0m \u001b[0mSCCallSiteSync\u001b[0m\u001b[0;34m.\u001b[0m\u001b[0m_spark_stack_depth\u001b[0m \u001b[0;34m==\u001b[0m \u001b[0;36m0\u001b[0m\u001b[0;34m:\u001b[0m\u001b[0;34m\u001b[0m\u001b[0;34m\u001b[0m\u001b[0m\n\u001b[0;32m---> 72\u001b[0;31m             \u001b[0mself\u001b[0m\u001b[0;34m.\u001b[0m\u001b[0m_context\u001b[0m\u001b[0;34m.\u001b[0m\u001b[0m_jsc\u001b[0m\u001b[0;34m.\u001b[0m\u001b[0msetCallSite\u001b[0m\u001b[0;34m(\u001b[0m\u001b[0mself\u001b[0m\u001b[0;34m.\u001b[0m\u001b[0m_call_site\u001b[0m\u001b[0;34m)\u001b[0m\u001b[0;34m\u001b[0m\u001b[0;34m\u001b[0m\u001b[0m\n\u001b[0m\u001b[1;32m     73\u001b[0m         \u001b[0mSCCallSiteSync\u001b[0m\u001b[0;34m.\u001b[0m\u001b[0m_spark_stack_depth\u001b[0m \u001b[0;34m+=\u001b[0m \u001b[0;36m1\u001b[0m\u001b[0;34m\u001b[0m\u001b[0;34m\u001b[0m\u001b[0m\n\u001b[1;32m     74\u001b[0m \u001b[0;34m\u001b[0m\u001b[0m\n",
      "\u001b[0;32m/usr/local/spark/python/lib/py4j-0.10.7-src.zip/py4j/java_gateway.py\u001b[0m in \u001b[0;36m__call__\u001b[0;34m(self, *args)\u001b[0m\n\u001b[1;32m   1253\u001b[0m             \u001b[0mproto\u001b[0m\u001b[0;34m.\u001b[0m\u001b[0mEND_COMMAND_PART\u001b[0m\u001b[0;34m\u001b[0m\u001b[0;34m\u001b[0m\u001b[0m\n\u001b[1;32m   1254\u001b[0m \u001b[0;34m\u001b[0m\u001b[0m\n\u001b[0;32m-> 1255\u001b[0;31m         \u001b[0manswer\u001b[0m \u001b[0;34m=\u001b[0m \u001b[0mself\u001b[0m\u001b[0;34m.\u001b[0m\u001b[0mgateway_client\u001b[0m\u001b[0;34m.\u001b[0m\u001b[0msend_command\u001b[0m\u001b[0;34m(\u001b[0m\u001b[0mcommand\u001b[0m\u001b[0;34m)\u001b[0m\u001b[0;34m\u001b[0m\u001b[0;34m\u001b[0m\u001b[0m\n\u001b[0m\u001b[1;32m   1256\u001b[0m         return_value = get_return_value(\n\u001b[1;32m   1257\u001b[0m             answer, self.gateway_client, self.target_id, self.name)\n",
      "\u001b[0;32m/usr/local/spark/python/lib/py4j-0.10.7-src.zip/py4j/java_gateway.py\u001b[0m in \u001b[0;36msend_command\u001b[0;34m(self, command, retry, binary)\u001b[0m\n\u001b[1;32m    981\u001b[0m          \u001b[0;32mif\u001b[0m\u001b[0;31m \u001b[0m\u001b[0;31m`\u001b[0m\u001b[0mbinary\u001b[0m\u001b[0;31m`\u001b[0m \u001b[0;32mis\u001b[0m\u001b[0;31m \u001b[0m\u001b[0;31m`\u001b[0m\u001b[0;32mTrue\u001b[0m\u001b[0;31m`\u001b[0m\u001b[0;34m.\u001b[0m\u001b[0;34m\u001b[0m\u001b[0;34m\u001b[0m\u001b[0m\n\u001b[1;32m    982\u001b[0m         \"\"\"\n\u001b[0;32m--> 983\u001b[0;31m         \u001b[0mconnection\u001b[0m \u001b[0;34m=\u001b[0m \u001b[0mself\u001b[0m\u001b[0;34m.\u001b[0m\u001b[0m_get_connection\u001b[0m\u001b[0;34m(\u001b[0m\u001b[0;34m)\u001b[0m\u001b[0;34m\u001b[0m\u001b[0;34m\u001b[0m\u001b[0m\n\u001b[0m\u001b[1;32m    984\u001b[0m         \u001b[0;32mtry\u001b[0m\u001b[0;34m:\u001b[0m\u001b[0;34m\u001b[0m\u001b[0;34m\u001b[0m\u001b[0m\n\u001b[1;32m    985\u001b[0m             \u001b[0mresponse\u001b[0m \u001b[0;34m=\u001b[0m \u001b[0mconnection\u001b[0m\u001b[0;34m.\u001b[0m\u001b[0msend_command\u001b[0m\u001b[0;34m(\u001b[0m\u001b[0mcommand\u001b[0m\u001b[0;34m)\u001b[0m\u001b[0;34m\u001b[0m\u001b[0;34m\u001b[0m\u001b[0m\n",
      "\u001b[0;32m/usr/local/spark/python/lib/py4j-0.10.7-src.zip/py4j/java_gateway.py\u001b[0m in \u001b[0;36m_get_connection\u001b[0;34m(self)\u001b[0m\n\u001b[1;32m    929\u001b[0m             \u001b[0mconnection\u001b[0m \u001b[0;34m=\u001b[0m \u001b[0mself\u001b[0m\u001b[0;34m.\u001b[0m\u001b[0mdeque\u001b[0m\u001b[0;34m.\u001b[0m\u001b[0mpop\u001b[0m\u001b[0;34m(\u001b[0m\u001b[0;34m)\u001b[0m\u001b[0;34m\u001b[0m\u001b[0;34m\u001b[0m\u001b[0m\n\u001b[1;32m    930\u001b[0m         \u001b[0;32mexcept\u001b[0m \u001b[0mIndexError\u001b[0m\u001b[0;34m:\u001b[0m\u001b[0;34m\u001b[0m\u001b[0;34m\u001b[0m\u001b[0m\n\u001b[0;32m--> 931\u001b[0;31m             \u001b[0mconnection\u001b[0m \u001b[0;34m=\u001b[0m \u001b[0mself\u001b[0m\u001b[0;34m.\u001b[0m\u001b[0m_create_connection\u001b[0m\u001b[0;34m(\u001b[0m\u001b[0;34m)\u001b[0m\u001b[0;34m\u001b[0m\u001b[0;34m\u001b[0m\u001b[0m\n\u001b[0m\u001b[1;32m    932\u001b[0m         \u001b[0;32mreturn\u001b[0m \u001b[0mconnection\u001b[0m\u001b[0;34m\u001b[0m\u001b[0;34m\u001b[0m\u001b[0m\n\u001b[1;32m    933\u001b[0m \u001b[0;34m\u001b[0m\u001b[0m\n",
      "\u001b[0;32m/usr/local/spark/python/lib/py4j-0.10.7-src.zip/py4j/java_gateway.py\u001b[0m in \u001b[0;36m_create_connection\u001b[0;34m(self)\u001b[0m\n\u001b[1;32m    935\u001b[0m         connection = GatewayConnection(\n\u001b[1;32m    936\u001b[0m             self.gateway_parameters, self.gateway_property)\n\u001b[0;32m--> 937\u001b[0;31m         \u001b[0mconnection\u001b[0m\u001b[0;34m.\u001b[0m\u001b[0mstart\u001b[0m\u001b[0;34m(\u001b[0m\u001b[0;34m)\u001b[0m\u001b[0;34m\u001b[0m\u001b[0;34m\u001b[0m\u001b[0m\n\u001b[0m\u001b[1;32m    938\u001b[0m         \u001b[0;32mreturn\u001b[0m \u001b[0mconnection\u001b[0m\u001b[0;34m\u001b[0m\u001b[0;34m\u001b[0m\u001b[0m\n\u001b[1;32m    939\u001b[0m \u001b[0;34m\u001b[0m\u001b[0m\n",
      "\u001b[0;32m/usr/local/spark/python/lib/py4j-0.10.7-src.zip/py4j/java_gateway.py\u001b[0m in \u001b[0;36mstart\u001b[0;34m(self)\u001b[0m\n\u001b[1;32m   1077\u001b[0m                 \u001b[0;34m\"server ({0}:{1})\"\u001b[0m\u001b[0;34m.\u001b[0m\u001b[0mformat\u001b[0m\u001b[0;34m(\u001b[0m\u001b[0mself\u001b[0m\u001b[0;34m.\u001b[0m\u001b[0maddress\u001b[0m\u001b[0;34m,\u001b[0m \u001b[0mself\u001b[0m\u001b[0;34m.\u001b[0m\u001b[0mport\u001b[0m\u001b[0;34m)\u001b[0m\u001b[0;34m\u001b[0m\u001b[0;34m\u001b[0m\u001b[0m\n\u001b[1;32m   1078\u001b[0m             \u001b[0mlogger\u001b[0m\u001b[0;34m.\u001b[0m\u001b[0mexception\u001b[0m\u001b[0;34m(\u001b[0m\u001b[0mmsg\u001b[0m\u001b[0;34m)\u001b[0m\u001b[0;34m\u001b[0m\u001b[0;34m\u001b[0m\u001b[0m\n\u001b[0;32m-> 1079\u001b[0;31m             \u001b[0;32mraise\u001b[0m \u001b[0mPy4JNetworkError\u001b[0m\u001b[0;34m(\u001b[0m\u001b[0mmsg\u001b[0m\u001b[0;34m,\u001b[0m \u001b[0me\u001b[0m\u001b[0;34m)\u001b[0m\u001b[0;34m\u001b[0m\u001b[0;34m\u001b[0m\u001b[0m\n\u001b[0m\u001b[1;32m   1080\u001b[0m \u001b[0;34m\u001b[0m\u001b[0m\n\u001b[1;32m   1081\u001b[0m     \u001b[0;32mdef\u001b[0m \u001b[0m_authenticate_connection\u001b[0m\u001b[0;34m(\u001b[0m\u001b[0mself\u001b[0m\u001b[0;34m)\u001b[0m\u001b[0;34m:\u001b[0m\u001b[0;34m\u001b[0m\u001b[0;34m\u001b[0m\u001b[0m\n",
      "\u001b[0;31mPy4JNetworkError\u001b[0m: An error occurred while trying to connect to the Java server (127.0.0.1:44313)"
     ]
    }
   ],
   "source": [
    "result = apriori(codeGroupedByPatients)\n",
    "# print(result)"
   ]
  },
  {
   "cell_type": "code",
   "execution_count": null,
   "metadata": {},
   "outputs": [],
   "source": [
    "# % first pass\n",
    "f o r ( eac h b a s k e t )\n",
    "f o r ( eac h i t em i i n b a s k e t )\n",
    "i tem_co u n t s [ i ] += 1\n",
    "# % create frequent item stable\n",
    "f r e q u e n t _ i t em s = f r e q u e n t _ i t em s _ t a b l e ( i tem_co u n t s )\n",
    "# % second pass\n",
    "f o r ( eac h i t em i i n b a s k e t )\n",
    "i f i no t i n f r e q u e n t _ i t e m s : c o n t i n u e\n",
    "f o r ( eac h i t em j i n b a s k e t ) %w i t h j > i\n",
    "i f j i n f r e q u e n t _ i t e m s\n",
    "p a i r_ c o u n t s [ i , j ] += 1"
   ]
  },
  {
   "cell_type": "markdown",
   "metadata": {},
   "source": [
    "### TESTES"
   ]
  },
  {
   "cell_type": "code",
   "execution_count": 127,
   "metadata": {},
   "outputs": [
    {
     "name": "stdout",
     "output_type": "stream",
     "text": [
      "[('09e4e8cb-29c2-4ef4-86c0-a6ff0ba25d2a', 65363002), ('b0a03e8c-8d0f-4242-9548-40f4d294eba8', 241929008)]\n"
     ]
    }
   ],
   "source": [
    "test = df.rdd.map(lambda x: (x.PATIENT, x.CODE)).take(2)\n",
    "print(test)\n",
    "\n",
    "# for t in test:\n",
    "#     print(t)\n",
    "\n",
    "# for row in test:\n",
    "#     print(\"{} has {}\".format(\n",
    "#         row[\"PATIENT\"],\n",
    "#         row[\"CODE\"]))"
   ]
  },
  {
   "cell_type": "code",
   "execution_count": 126,
   "metadata": {},
   "outputs": [
    {
     "data": {
      "text/plain": [
       "[('5420ae87-24c8-4ed4-ad14-041d15aadae9',\n",
       "  {72892002, 195662009, 283371005, 284551006, 444814009, 446096008}),\n",
       " ('90f0b8d0-3888-415f-8234-d68f7beab894',\n",
       "  {10509002, 44465007, 72892002, 195662009, 307731004, 444814009}),\n",
       " ('3826037f-19e0-4c7b-98e5-4e9578472f67',\n",
       "  {24079001, 55822004, 65966004, 162864005}),\n",
       " ('b295d437-e4a3-4699-9e96-e4a29d5f7aa1',\n",
       "  {40055000, 59621000, 64859006, 70704007, 162864005, 444814009}),\n",
       " ('4a772dc0-bd42-4b84-b55e-053389020c57',\n",
       "  {10509002,\n",
       "   15777000,\n",
       "   19169002,\n",
       "   40055000,\n",
       "   55822004,\n",
       "   72892002,\n",
       "   75498004,\n",
       "   82423001,\n",
       "   156073000,\n",
       "   444814009})]"
      ]
     },
     "execution_count": 126,
     "metadata": {},
     "output_type": "execute_result"
    }
   ],
   "source": [
    "test2 = df.rdd.map(lambda x: (x.PATIENT, x.CODE)).groupByKey().mapValues(set)\n",
    "# test2.fullOuterJoin(test2).take(5)\n",
    "# print(test2)\n",
    "# test2.mapValues(set)\n",
    "# test2.mapValues(lambda code: code).mapValues(set).take(5)\n",
    "# test2.mapValues(lambda code: code.lower()).take(4)\n",
    "test2.take(5)\n",
    "\n",
    "# pair = test2.groupByKey().take(1)\n",
    "# print(\"%s:%s\" % (test2[0], \",\".join([n for n in test2[1]])))"
   ]
  },
  {
   "cell_type": "code",
   "execution_count": null,
   "metadata": {},
   "outputs": [],
   "source": [
    "'''sc = sparkc(appName=\"Assignemnt1-2_conditions\")\n",
    "textfile = sc.textFile('./Assignment1/conditionsample.csv')'''"
   ]
  },
  {
   "cell_type": "code",
   "execution_count": null,
   "metadata": {},
   "outputs": [],
   "source": [
    "'''spark.read.format('csv').options(header='true', inferSchema='true')\n",
    "    .load('zipcodes.csv')'''"
   ]
  },
  {
   "cell_type": "code",
   "execution_count": null,
   "metadata": {},
   "outputs": [],
   "source": [
    "val schema = new StructType()\n",
    "    .add(\"START\",IntegerType,true)\n",
    "    .add(\"STOP\",IntegerType,true)\n",
    "    .add(\"PATIENT\",StringType,true)\n",
    "    .add(\"ENCOUNTER\",StringType,true)\n",
    "    .add(\"CODE\",StringType,true)\n",
    "    .add(\"DESCRIPTION\",StringType,true)\n",
    "\n",
    "val df_with_schema = spark.read.format(\"csv\")\n",
    "    .option(\"header\", \"true\")\n",
    "    .schema(schema)\n",
    "    .load(\"src/main/resources/zipcodes.csv\")\n",
    "df_with_schema.printSchema()\n",
    "df_with_schema.show(false)"
   ]
  },
  {
   "cell_type": "code",
   "execution_count": null,
   "metadata": {},
   "outputs": [],
   "source": [
    "df = textfile.split(',')\n",
    "type(df)"
   ]
  },
  {
   "cell_type": "code",
   "execution_count": null,
   "metadata": {},
   "outputs": [],
   "source": [
    "textfile.count()"
   ]
  }
 ],
 "metadata": {
  "kernelspec": {
   "display_name": "Python 3",
   "language": "python",
   "name": "python3"
  }
 },
 "nbformat": 4,
 "nbformat_minor": 4
}
