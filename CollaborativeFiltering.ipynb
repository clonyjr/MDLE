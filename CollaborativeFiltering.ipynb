{
 "cells": [
  {
   "cell_type": "markdown",
   "source": [
    "MOVIES RECCOMENDATION - Collaborative Filtering"
   ],
   "metadata": {
    "collapsed": false
   }
  },
  {
   "cell_type": "code",
   "execution_count": 1,
   "outputs": [],
   "source": [
    "import pandas as pd\n",
    "import numpy as np\n",
    "\n",
    "APP_NAME = 'CollaborativeFiltering'\n",
    "path = \"/Users/clonyjr/Library/Mobile Documents/com~apple~CloudDocs/Aveiro/UA/CLONY/MEI/2019-2020-SEM-2/MDLE/\" \\\n",
    "       \"Assignments/Assignment_2/data/ml-latest-small/\"\n",
    "pathlinks = path + 'links.csv'\n",
    "pathmovies = path + 'movies.csv'\n",
    "pathratings = path + 'ratings.csv'\n",
    "pathtags = path + 'tags.csv'\n",
    "delimeter = ','"
   ],
   "metadata": {
    "collapsed": false,
    "pycharm": {
     "name": "#%%\n"
    }
   }
  },
  {
   "cell_type": "code",
   "execution_count": 3,
   "outputs": [],
   "source": [
    "ratings_df = pd.read_csv(pathratings)\n",
    "movies_df = pd.read_csv(pathmovies)\n",
    "movies_df['movieId'] = movies_df['movieId'].apply(pd.to_numeric)\n",
    "movies_df.head()\n",
    "ratings_df.head()"
   ],
   "metadata": {
    "collapsed": false,
    "pycharm": {
     "name": "#%%\n"
    }
   }
  },
  {
   "cell_type": "markdown",
   "source": [
    "Formatting the ratings matrix to be one row per user and one column per movie"
   ],
   "metadata": {
    "collapsed": false,
    "pycharm": {
     "name": "#%% md\n"
    }
   }
  },
  {
   "cell_type": "code",
   "execution_count": null,
   "outputs": [],
   "source": [
    "R_df = ratings_df.pivot(index = 'userId', columns ='movieId', values = 'rating').fillna(0)\n",
    "R_df.head()"
   ],
   "metadata": {
    "collapsed": false,
    "pycharm": {
     "name": "#%%\n"
    }
   }
  },
  {
   "cell_type": "markdown",
   "source": [
    "Normalize by each users mean and convert it from a dataframe to a numpy array."
   ],
   "metadata": {
    "collapsed": false,
    "pycharm": {
     "name": "#%% md\n"
    }
   }
  },
  {
   "cell_type": "code",
   "execution_count": null,
   "outputs": [],
   "source": [
    "R = R_df.to_numpy()\n",
    "user_ratings_mean = np.mean(R, axis = 1)\n",
    "R_demeaned = R - user_ratings_mean.reshape(-1, 1)"
   ],
   "metadata": {
    "collapsed": false,
    "pycharm": {
     "name": "#%%\n"
    }
   }
  },
  {
   "cell_type": "markdown",
   "source": [
    "Need to study and understand"
   ],
   "metadata": {
    "collapsed": false,
    "pycharm": {
     "name": "#%% md\n"
    }
   }
  },
  {
   "cell_type": "code",
   "execution_count": null,
   "outputs": [],
   "source": [
    "from scipy.sparse.linalg import svds\n",
    "U, sigma, Vt = svds(R_demeaned, k = 50)\n",
    "sigma=np.diag(sigma)\n",
    "all_user_predicted_ratings = np.dot(np.dot(U, sigma), Vt) + user_ratings_mean.reshape(-1, 1)"
   ],
   "metadata": {
    "collapsed": false,
    "pycharm": {
     "name": "#%%\n"
    }
   }
  },
  {
   "cell_type": "markdown",
   "source": [
    "Making Movies Recommendations"
   ],
   "metadata": {
    "collapsed": false
   }
  },
  {
   "cell_type": "code",
   "execution_count": 7,
   "outputs": [
    {
     "data": {
      "text/plain": "movieId    1         2         3         4         5         6         7       \\\n0        2.167328  0.402751  0.840184 -0.076281 -0.551337  2.504091 -0.890114   \n1        0.211459  0.006658  0.033455  0.017419  0.183430 -0.062473  0.083037   \n2        0.003588  0.030518  0.046393  0.008176 -0.006247  0.107328 -0.012416   \n3        2.051549 -0.387104 -0.252199  0.087562  0.130465  0.270210  0.477835   \n4        1.344738  0.778511  0.065749  0.111744  0.273144  0.584426  0.254930   \n\nmovieId    8         9         10      ...    193565    193567    193571  \\\n0       -0.026443  0.196974  1.593259  ... -0.023453 -0.019967 -0.026939   \n1        0.024158  0.049330 -0.152530  ...  0.019498  0.016777  0.022219   \n2        0.003779  0.007297 -0.059362  ...  0.005909  0.006209  0.005610   \n3        0.040313  0.025858 -0.017365  ...  0.004836  0.004172  0.005500   \n4        0.128788 -0.085541  1.023455  ... -0.008042 -0.007419 -0.008664   \n\nmovieId    193573    193579    193581    193583    193585    193587    193609  \n0       -0.026939 -0.023453 -0.026939 -0.023453 -0.023453 -0.023453 -0.058732  \n1        0.022219  0.019498  0.022219  0.019498  0.019498  0.019498  0.032281  \n2        0.005610  0.005909  0.005610  0.005909  0.005909  0.005909  0.008004  \n3        0.005500  0.004836  0.005500  0.004836  0.004836  0.004836 -0.023311  \n4       -0.008664 -0.008042 -0.008664 -0.008042 -0.008042 -0.008042 -0.010127  \n\n[5 rows x 9724 columns]",
      "text/html": "<div>\n<style scoped>\n    .dataframe tbody tr th:only-of-type {\n        vertical-align: middle;\n    }\n\n    .dataframe tbody tr th {\n        vertical-align: top;\n    }\n\n    .dataframe thead th {\n        text-align: right;\n    }\n</style>\n<table border=\"1\" class=\"dataframe\">\n  <thead>\n    <tr style=\"text-align: right;\">\n      <th>movieId</th>\n      <th>1</th>\n      <th>2</th>\n      <th>3</th>\n      <th>4</th>\n      <th>5</th>\n      <th>6</th>\n      <th>7</th>\n      <th>8</th>\n      <th>9</th>\n      <th>10</th>\n      <th>...</th>\n      <th>193565</th>\n      <th>193567</th>\n      <th>193571</th>\n      <th>193573</th>\n      <th>193579</th>\n      <th>193581</th>\n      <th>193583</th>\n      <th>193585</th>\n      <th>193587</th>\n      <th>193609</th>\n    </tr>\n  </thead>\n  <tbody>\n    <tr>\n      <th>0</th>\n      <td>2.167328</td>\n      <td>0.402751</td>\n      <td>0.840184</td>\n      <td>-0.076281</td>\n      <td>-0.551337</td>\n      <td>2.504091</td>\n      <td>-0.890114</td>\n      <td>-0.026443</td>\n      <td>0.196974</td>\n      <td>1.593259</td>\n      <td>...</td>\n      <td>-0.023453</td>\n      <td>-0.019967</td>\n      <td>-0.026939</td>\n      <td>-0.026939</td>\n      <td>-0.023453</td>\n      <td>-0.026939</td>\n      <td>-0.023453</td>\n      <td>-0.023453</td>\n      <td>-0.023453</td>\n      <td>-0.058732</td>\n    </tr>\n    <tr>\n      <th>1</th>\n      <td>0.211459</td>\n      <td>0.006658</td>\n      <td>0.033455</td>\n      <td>0.017419</td>\n      <td>0.183430</td>\n      <td>-0.062473</td>\n      <td>0.083037</td>\n      <td>0.024158</td>\n      <td>0.049330</td>\n      <td>-0.152530</td>\n      <td>...</td>\n      <td>0.019498</td>\n      <td>0.016777</td>\n      <td>0.022219</td>\n      <td>0.022219</td>\n      <td>0.019498</td>\n      <td>0.022219</td>\n      <td>0.019498</td>\n      <td>0.019498</td>\n      <td>0.019498</td>\n      <td>0.032281</td>\n    </tr>\n    <tr>\n      <th>2</th>\n      <td>0.003588</td>\n      <td>0.030518</td>\n      <td>0.046393</td>\n      <td>0.008176</td>\n      <td>-0.006247</td>\n      <td>0.107328</td>\n      <td>-0.012416</td>\n      <td>0.003779</td>\n      <td>0.007297</td>\n      <td>-0.059362</td>\n      <td>...</td>\n      <td>0.005909</td>\n      <td>0.006209</td>\n      <td>0.005610</td>\n      <td>0.005610</td>\n      <td>0.005909</td>\n      <td>0.005610</td>\n      <td>0.005909</td>\n      <td>0.005909</td>\n      <td>0.005909</td>\n      <td>0.008004</td>\n    </tr>\n    <tr>\n      <th>3</th>\n      <td>2.051549</td>\n      <td>-0.387104</td>\n      <td>-0.252199</td>\n      <td>0.087562</td>\n      <td>0.130465</td>\n      <td>0.270210</td>\n      <td>0.477835</td>\n      <td>0.040313</td>\n      <td>0.025858</td>\n      <td>-0.017365</td>\n      <td>...</td>\n      <td>0.004836</td>\n      <td>0.004172</td>\n      <td>0.005500</td>\n      <td>0.005500</td>\n      <td>0.004836</td>\n      <td>0.005500</td>\n      <td>0.004836</td>\n      <td>0.004836</td>\n      <td>0.004836</td>\n      <td>-0.023311</td>\n    </tr>\n    <tr>\n      <th>4</th>\n      <td>1.344738</td>\n      <td>0.778511</td>\n      <td>0.065749</td>\n      <td>0.111744</td>\n      <td>0.273144</td>\n      <td>0.584426</td>\n      <td>0.254930</td>\n      <td>0.128788</td>\n      <td>-0.085541</td>\n      <td>1.023455</td>\n      <td>...</td>\n      <td>-0.008042</td>\n      <td>-0.007419</td>\n      <td>-0.008664</td>\n      <td>-0.008664</td>\n      <td>-0.008042</td>\n      <td>-0.008664</td>\n      <td>-0.008042</td>\n      <td>-0.008042</td>\n      <td>-0.008042</td>\n      <td>-0.010127</td>\n    </tr>\n  </tbody>\n</table>\n<p>5 rows × 9724 columns</p>\n</div>"
     },
     "execution_count": 7,
     "metadata": {},
     "output_type": "execute_result"
    }
   ],
   "source": [
    "preds_df = pd.DataFrame(all_user_predicted_ratings, columns = R_df.columns)\n",
    "preds_df.head()"
   ],
   "metadata": {
    "collapsed": false,
    "pycharm": {
     "name": "#%%\n"
    }
   }
  },
  {
   "cell_type": "code",
   "execution_count": 8,
   "outputs": [],
   "source": [
    "def recommend_movies(predictions_df, userID, movies_df, original_ratings_df, num_recommendations=5):\n",
    "\n",
    "    # Get and sort the user's predictions\n",
    "    user_row_number = userID - 1 # UserID starts at 1, not 0\n",
    "    sorted_user_predictions = preds_df.iloc[user_row_number].sort_values(ascending=False) # UserID starts at 1\n",
    "\n",
    "    # Get the user's data and merge in the movie information.\n",
    "    user_data = original_ratings_df[original_ratings_df.UserID == (userID)]\n",
    "    user_full = (user_data.merge(movies_df, how = 'left', left_on = 'MovieID', right_on = 'MovieID').\n",
    "                     sort_values(['Rating'], ascending=False)\n",
    "                 )\n",
    "\n",
    "    print('User {0} has already rated {1} movies.'.format(userID, user_full.shape[0]))\n",
    "    print('Recommending highest {0} predicted ratings movies not already rated.'.format(num_recommendations))\n",
    "\n",
    "    # Recommend the highest predicted rating movies that the user hasn't seen yet.\n",
    "    recommendations = (movies_df[~movies_df['MovieID'].isin(user_full['MovieID'])].\n",
    "         merge(pd.DataFrame(sorted_user_predictions).reset_index(), how = 'left',\n",
    "               left_on = 'MovieID',\n",
    "               right_on = 'MovieID').\n",
    "         rename(columns = {user_row_number: 'Predictions'}).\n",
    "         sort_values('Predictions', ascending = False).\n",
    "                       iloc[:num_recommendations, :-1]\n",
    "                      )\n",
    "\n",
    "    return user_full, recommendations"
   ],
   "metadata": {
    "collapsed": false,
    "pycharm": {
     "name": "#%%\n"
    }
   }
  },
  {
   "cell_type": "code",
   "execution_count": 9,
   "outputs": [
    {
     "ename": "IndexError",
     "evalue": "single positional indexer is out-of-bounds",
     "output_type": "error",
     "traceback": [
      "\u001B[0;31m---------------------------------------------------------------------------\u001B[0m",
      "\u001B[0;31mIndexError\u001B[0m                                Traceback (most recent call last)",
      "\u001B[0;32m<ipython-input-9-cd6c1e1e1fb9>\u001B[0m in \u001B[0;36m<module>\u001B[0;34m\u001B[0m\n\u001B[0;32m----> 1\u001B[0;31m \u001B[0malready_rated\u001B[0m\u001B[0;34m,\u001B[0m \u001B[0mpredictions\u001B[0m \u001B[0;34m=\u001B[0m \u001B[0mrecommend_movies\u001B[0m\u001B[0;34m(\u001B[0m\u001B[0mpreds_df\u001B[0m\u001B[0;34m,\u001B[0m \u001B[0;36m837\u001B[0m\u001B[0;34m,\u001B[0m \u001B[0mmovies_df\u001B[0m\u001B[0;34m,\u001B[0m \u001B[0mratings_df\u001B[0m\u001B[0;34m,\u001B[0m \u001B[0;36m10\u001B[0m\u001B[0;34m)\u001B[0m\u001B[0;34m\u001B[0m\u001B[0;34m\u001B[0m\u001B[0m\n\u001B[0m\u001B[1;32m      2\u001B[0m \u001B[0malready_rated\u001B[0m\u001B[0;34m.\u001B[0m\u001B[0mhead\u001B[0m\u001B[0;34m(\u001B[0m\u001B[0;36m10\u001B[0m\u001B[0;34m)\u001B[0m\u001B[0;34m\u001B[0m\u001B[0;34m\u001B[0m\u001B[0m\n\u001B[1;32m      3\u001B[0m \u001B[0mpredictions\u001B[0m\u001B[0;34m\u001B[0m\u001B[0;34m\u001B[0m\u001B[0m\n\u001B[1;32m      4\u001B[0m \u001B[0;34m\u001B[0m\u001B[0m\n\u001B[1;32m      5\u001B[0m \u001B[0;34m\u001B[0m\u001B[0m\n",
      "\u001B[0;32m<ipython-input-8-37dc8f2d743b>\u001B[0m in \u001B[0;36mrecommend_movies\u001B[0;34m(predictions_df, userID, movies_df, original_ratings_df, num_recommendations)\u001B[0m\n\u001B[1;32m      3\u001B[0m     \u001B[0;31m# Get and sort the user's predictions\u001B[0m\u001B[0;34m\u001B[0m\u001B[0;34m\u001B[0m\u001B[0;34m\u001B[0m\u001B[0m\n\u001B[1;32m      4\u001B[0m     \u001B[0muser_row_number\u001B[0m \u001B[0;34m=\u001B[0m \u001B[0muserID\u001B[0m \u001B[0;34m-\u001B[0m \u001B[0;36m1\u001B[0m \u001B[0;31m# UserID starts at 1, not 0\u001B[0m\u001B[0;34m\u001B[0m\u001B[0;34m\u001B[0m\u001B[0m\n\u001B[0;32m----> 5\u001B[0;31m     \u001B[0msorted_user_predictions\u001B[0m \u001B[0;34m=\u001B[0m \u001B[0mpreds_df\u001B[0m\u001B[0;34m.\u001B[0m\u001B[0miloc\u001B[0m\u001B[0;34m[\u001B[0m\u001B[0muser_row_number\u001B[0m\u001B[0;34m]\u001B[0m\u001B[0;34m.\u001B[0m\u001B[0msort_values\u001B[0m\u001B[0;34m(\u001B[0m\u001B[0mascending\u001B[0m\u001B[0;34m=\u001B[0m\u001B[0;32mFalse\u001B[0m\u001B[0;34m)\u001B[0m \u001B[0;31m# UserID starts at 1\u001B[0m\u001B[0;34m\u001B[0m\u001B[0;34m\u001B[0m\u001B[0m\n\u001B[0m\u001B[1;32m      6\u001B[0m \u001B[0;34m\u001B[0m\u001B[0m\n\u001B[1;32m      7\u001B[0m     \u001B[0;31m# Get the user's data and merge in the movie information.\u001B[0m\u001B[0;34m\u001B[0m\u001B[0;34m\u001B[0m\u001B[0;34m\u001B[0m\u001B[0m\n",
      "\u001B[0;32m~/.virtualenvs/PycharmProjects/ED/MDLE/lib/python3.7/site-packages/pandas/core/indexing.py\u001B[0m in \u001B[0;36m__getitem__\u001B[0;34m(self, key)\u001B[0m\n\u001B[1;32m   1766\u001B[0m \u001B[0;34m\u001B[0m\u001B[0m\n\u001B[1;32m   1767\u001B[0m             \u001B[0mmaybe_callable\u001B[0m \u001B[0;34m=\u001B[0m \u001B[0mcom\u001B[0m\u001B[0;34m.\u001B[0m\u001B[0mapply_if_callable\u001B[0m\u001B[0;34m(\u001B[0m\u001B[0mkey\u001B[0m\u001B[0;34m,\u001B[0m \u001B[0mself\u001B[0m\u001B[0;34m.\u001B[0m\u001B[0mobj\u001B[0m\u001B[0;34m)\u001B[0m\u001B[0;34m\u001B[0m\u001B[0;34m\u001B[0m\u001B[0m\n\u001B[0;32m-> 1768\u001B[0;31m             \u001B[0;32mreturn\u001B[0m \u001B[0mself\u001B[0m\u001B[0;34m.\u001B[0m\u001B[0m_getitem_axis\u001B[0m\u001B[0;34m(\u001B[0m\u001B[0mmaybe_callable\u001B[0m\u001B[0;34m,\u001B[0m \u001B[0maxis\u001B[0m\u001B[0;34m=\u001B[0m\u001B[0maxis\u001B[0m\u001B[0;34m)\u001B[0m\u001B[0;34m\u001B[0m\u001B[0;34m\u001B[0m\u001B[0m\n\u001B[0m\u001B[1;32m   1769\u001B[0m \u001B[0;34m\u001B[0m\u001B[0m\n\u001B[1;32m   1770\u001B[0m     \u001B[0;32mdef\u001B[0m \u001B[0m_is_scalar_access\u001B[0m\u001B[0;34m(\u001B[0m\u001B[0mself\u001B[0m\u001B[0;34m,\u001B[0m \u001B[0mkey\u001B[0m\u001B[0;34m:\u001B[0m \u001B[0mTuple\u001B[0m\u001B[0;34m)\u001B[0m\u001B[0;34m:\u001B[0m\u001B[0;34m\u001B[0m\u001B[0;34m\u001B[0m\u001B[0m\n",
      "\u001B[0;32m~/.virtualenvs/PycharmProjects/ED/MDLE/lib/python3.7/site-packages/pandas/core/indexing.py\u001B[0m in \u001B[0;36m_getitem_axis\u001B[0;34m(self, key, axis)\u001B[0m\n\u001B[1;32m   2136\u001B[0m \u001B[0;34m\u001B[0m\u001B[0m\n\u001B[1;32m   2137\u001B[0m             \u001B[0;31m# validate the location\u001B[0m\u001B[0;34m\u001B[0m\u001B[0;34m\u001B[0m\u001B[0;34m\u001B[0m\u001B[0m\n\u001B[0;32m-> 2138\u001B[0;31m             \u001B[0mself\u001B[0m\u001B[0;34m.\u001B[0m\u001B[0m_validate_integer\u001B[0m\u001B[0;34m(\u001B[0m\u001B[0mkey\u001B[0m\u001B[0;34m,\u001B[0m \u001B[0maxis\u001B[0m\u001B[0;34m)\u001B[0m\u001B[0;34m\u001B[0m\u001B[0;34m\u001B[0m\u001B[0m\n\u001B[0m\u001B[1;32m   2139\u001B[0m \u001B[0;34m\u001B[0m\u001B[0m\n\u001B[1;32m   2140\u001B[0m             \u001B[0;32mreturn\u001B[0m \u001B[0mself\u001B[0m\u001B[0;34m.\u001B[0m\u001B[0m_get_loc\u001B[0m\u001B[0;34m(\u001B[0m\u001B[0mkey\u001B[0m\u001B[0;34m,\u001B[0m \u001B[0maxis\u001B[0m\u001B[0;34m=\u001B[0m\u001B[0maxis\u001B[0m\u001B[0;34m)\u001B[0m\u001B[0;34m\u001B[0m\u001B[0;34m\u001B[0m\u001B[0m\n",
      "\u001B[0;32m~/.virtualenvs/PycharmProjects/ED/MDLE/lib/python3.7/site-packages/pandas/core/indexing.py\u001B[0m in \u001B[0;36m_validate_integer\u001B[0;34m(self, key, axis)\u001B[0m\n\u001B[1;32m   2061\u001B[0m         \u001B[0mlen_axis\u001B[0m \u001B[0;34m=\u001B[0m \u001B[0mlen\u001B[0m\u001B[0;34m(\u001B[0m\u001B[0mself\u001B[0m\u001B[0;34m.\u001B[0m\u001B[0mobj\u001B[0m\u001B[0;34m.\u001B[0m\u001B[0m_get_axis\u001B[0m\u001B[0;34m(\u001B[0m\u001B[0maxis\u001B[0m\u001B[0;34m)\u001B[0m\u001B[0;34m)\u001B[0m\u001B[0;34m\u001B[0m\u001B[0;34m\u001B[0m\u001B[0m\n\u001B[1;32m   2062\u001B[0m         \u001B[0;32mif\u001B[0m \u001B[0mkey\u001B[0m \u001B[0;34m>=\u001B[0m \u001B[0mlen_axis\u001B[0m \u001B[0;32mor\u001B[0m \u001B[0mkey\u001B[0m \u001B[0;34m<\u001B[0m \u001B[0;34m-\u001B[0m\u001B[0mlen_axis\u001B[0m\u001B[0;34m:\u001B[0m\u001B[0;34m\u001B[0m\u001B[0;34m\u001B[0m\u001B[0m\n\u001B[0;32m-> 2063\u001B[0;31m             \u001B[0;32mraise\u001B[0m \u001B[0mIndexError\u001B[0m\u001B[0;34m(\u001B[0m\u001B[0;34m\"single positional indexer is out-of-bounds\"\u001B[0m\u001B[0;34m)\u001B[0m\u001B[0;34m\u001B[0m\u001B[0;34m\u001B[0m\u001B[0m\n\u001B[0m\u001B[1;32m   2064\u001B[0m \u001B[0;34m\u001B[0m\u001B[0m\n\u001B[1;32m   2065\u001B[0m     \u001B[0;32mdef\u001B[0m \u001B[0m_getitem_tuple\u001B[0m\u001B[0;34m(\u001B[0m\u001B[0mself\u001B[0m\u001B[0;34m,\u001B[0m \u001B[0mtup\u001B[0m\u001B[0;34m:\u001B[0m \u001B[0mTuple\u001B[0m\u001B[0;34m)\u001B[0m\u001B[0;34m:\u001B[0m\u001B[0;34m\u001B[0m\u001B[0;34m\u001B[0m\u001B[0m\n",
      "\u001B[0;31mIndexError\u001B[0m: single positional indexer is out-of-bounds"
     ]
    }
   ],
   "source": [
    "already_rated, predictions = recommend_movies(preds_df, 837, movies_df, ratings_df, 10)\n",
    "already_rated.head(10)\n",
    "predictions\n",
    "\n"
   ],
   "metadata": {
    "collapsed": false,
    "pycharm": {
     "name": "#%%\n"
    }
   }
  }
 ],
 "metadata": {
  "kernelspec": {
   "display_name": "Python 3",
   "language": "python",
   "name": "python3"
  },
  "language_info": {
   "codemirror_mode": {
    "name": "ipython",
    "version": 2
   },
   "file_extension": ".py",
   "mimetype": "text/x-python",
   "name": "python",
   "nbconvert_exporter": "python",
   "pygments_lexer": "ipython2",
   "version": "2.7.6"
  }
 },
 "nbformat": 4,
 "nbformat_minor": 0
}